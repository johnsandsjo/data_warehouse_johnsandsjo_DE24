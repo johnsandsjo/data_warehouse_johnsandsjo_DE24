{
 "cells": [
  {
   "cell_type": "markdown",
   "id": "c6c72e28",
   "metadata": {},
   "source": [
    "## Testing API"
   ]
  },
  {
   "cell_type": "code",
   "execution_count": 38,
   "id": "51cdc93e",
   "metadata": {},
   "outputs": [
    {
     "name": "stdout",
     "output_type": "stream",
     "text": [
      "[{'type': 'Feature', 'id': 'LTFR_SERVICEDAG.3311', 'geometry': {'type': 'LineString', 'coordinates': [[18.05491, 59.296483], [18.05486, 59.296503], [18.054834, 59.296514]]}, 'geometry_name': 'GEOMETRY', 'properties': {'FEATURE_OBJECT_ID': 16650220, 'FEATURE_VERSION_ID': 1, 'EXTENT_NO': 1, 'VALID_FROM': '2019-05-31T22:00:00Z', 'START_TIME': 800, 'END_TIME': 1600, 'START_WEEKDAY': 'tisdag', 'START_MONTH': 11, 'END_MONTH': 5, 'START_DAY': 1, 'END_DAY': 15, 'CITATION': '0180 2019-02105', 'STREET_NAME': 'Borensvägen', 'CITY_DISTRICT': 'Årsta', 'PARKING_DISTRICT': 'Årsta', 'VF_METER': 5, 'VF_PLATS_TYP': 'Reserverad p-plats motorcykel boende', 'ADDRESS': 'Borensvägen 31', 'RDT_URL': 'https://rdt.transportstyrelsen.se/rdt/AF06_View.aspx?BeslutsMyndighetKod=0180&BeslutadAr=2019&LopNr=02105', 'PARKING_RATE': 'taxa 14: Vardagar utom vardag före sön- och helgdag klockan 07.00 - 19.00 och vardag före sön- och helgdag klockan 11.00 - 17.00,  2,50 kr/tim.', 'FID': 3311}, 'bbox': [18.054834, 59.296483, 18.05491, 59.296514]}, {'type': 'Feature', 'id': 'LTFR_SERVICEDAG.12049', 'geometry': {'type': 'LineString', 'coordinates': [[18.054755, 59.296533], [18.054668, 59.296568], [18.054258, 59.296736], [18.054192, 59.296765], [18.054129, 59.296795], [18.054069, 59.296826], [18.053717, 59.297027], [18.053715, 59.297028], [18.053654, 59.29706], [18.053651, 59.297061], [18.05345, 59.297149], [18.053449, 59.297149], [18.053249, 59.297232]]}, 'geometry_name': 'GEOMETRY', 'properties': {'FEATURE_OBJECT_ID': 9845278, 'FEATURE_VERSION_ID': 1, 'EXTENT_NO': 1, 'VALID_FROM': '2016-12-19T23:00:00Z', 'START_TIME': 800, 'END_TIME': 1600, 'START_WEEKDAY': 'tisdag', 'START_MONTH': 11, 'END_MONTH': 5, 'START_DAY': 1, 'END_DAY': 15, 'CITATION': '0180 2016-03027', 'STREET_NAME': 'Borensvägen', 'CITY_DISTRICT': 'Årsta', 'PARKING_DISTRICT': 'Årsta', 'VF_PLATS_TYP': 'P Avgift, boende', 'ADDRESS': 'Borensvägen 31 - 66', 'RDT_URL': 'https://rdt.transportstyrelsen.se/rdt/AF06_View.aspx?BeslutsMyndighetKod=0180&BeslutadAr=2016&LopNr=03027', 'PARKING_RATE': 'taxa 4: 10 kr/tim vardagar 7-19, dag före helgdag 11-17, Boende: 500 kr/månad eller 35 kr/dygn', 'FID': 12049}, 'bbox': [18.053249, 59.296533, 18.054755, 59.297232]}, {'type': 'Feature', 'id': 'LTFR_SERVICEDAG.12050', 'geometry': {'type': 'LineString', 'coordinates': [[18.056102, 59.295989], [18.055699, 59.29615], [18.054848, 59.296495], [18.054755, 59.296533]]}, 'geometry_name': 'GEOMETRY', 'properties': {'FEATURE_OBJECT_ID': 9845278, 'FEATURE_VERSION_ID': 1, 'EXTENT_NO': 2, 'VALID_FROM': '2016-12-19T23:00:00Z', 'START_TIME': 800, 'END_TIME': 1600, 'START_WEEKDAY': 'tisdag', 'START_MONTH': 11, 'END_MONTH': 5, 'START_DAY': 1, 'END_DAY': 15, 'CITATION': '0180 2016-03027', 'STREET_NAME': 'Borensvägen', 'CITY_DISTRICT': 'Årsta', 'PARKING_DISTRICT': 'Årsta', 'VF_PLATS_TYP': 'P Avgift, boende', 'ADDRESS': 'Borensvägen 17 - 31', 'RDT_URL': 'https://rdt.transportstyrelsen.se/rdt/AF06_View.aspx?BeslutsMyndighetKod=0180&BeslutadAr=2016&LopNr=03027', 'PARKING_RATE': 'taxa 4: 10 kr/tim vardagar 7-19, dag före helgdag 11-17, Boende: 500 kr/månad eller 35 kr/dygn', 'FID': 12050}, 'bbox': [18.054755, 59.295989, 18.056102, 59.296533]}, {'type': 'Feature', 'id': 'LTFR_SERVICEDAG.12097', 'geometry': {'type': 'LineString', 'coordinates': [[18.057006, 59.294782], [18.057011, 59.294784], [18.057015, 59.294787], [18.057018, 59.29479], [18.057021, 59.294793], [18.057034, 59.294807], [18.057057, 59.294833], [18.05726, 59.295058], [18.057414, 59.295228], [18.057427, 59.295241], [18.057427, 59.295242], [18.057462, 59.295283], [18.057464, 59.295285], [18.057493, 59.295328], [18.057495, 59.295331], [18.057496, 59.295334], [18.057497, 59.295338], [18.057499, 59.295393], [18.057498, 59.295397], [18.057496, 59.295401], [18.057494, 59.295406], [18.057459, 59.295448], [18.057455, 59.295452], [18.05745, 59.295455], [18.057444, 59.295459], [18.057373, 59.295492], [18.057369, 59.295494], [18.056159, 59.295979], [18.056103, 59.296002]]}, 'geometry_name': 'GEOMETRY', 'properties': {'FEATURE_OBJECT_ID': 9845328, 'FEATURE_VERSION_ID': 1, 'EXTENT_NO': 1, 'VALID_FROM': '2017-01-04T23:00:00Z', 'START_TIME': 800, 'END_TIME': 1600, 'START_WEEKDAY': 'onsdag', 'START_MONTH': 11, 'END_MONTH': 5, 'START_DAY': 1, 'END_DAY': 15, 'CITATION': '0180 2016-03057', 'STREET_NAME': 'Borensvägen', 'CITY_DISTRICT': 'Årsta', 'PARKING_DISTRICT': 'Årsta', 'VF_PLATS_TYP': 'P Avgift, boende', 'ADDRESS': 'Borensvägen 1 - 17', 'RDT_URL': 'https://rdt.transportstyrelsen.se/rdt/AF06_View.aspx?BeslutsMyndighetKod=0180&BeslutadAr=2016&LopNr=03057', 'PARKING_RATE': 'taxa 4: 10 kr/tim vardagar 7-19, dag före helgdag 11-17, Boende: 500 kr/månad eller 35 kr/dygn', 'FID': 12097}, 'bbox': [18.056103, 59.294782, 18.057499, 59.296002]}]\n"
     ]
    }
   ],
   "source": [
    "import requests\n",
    "import json\n",
    "\n",
    "def get_data(url, params):\n",
    "    \n",
    "    response = requests.get(url, params=params)\n",
    "    response.raise_for_status()  # check for http errors\n",
    "    return json.loads(response.content.decode('utf8')).get(\"features\")\n",
    "\n",
    "street_name = \"Borensvägen\"\n",
    "url = f\"https://openparking.stockholm.se/LTF-Tolken/v1/servicedagar/street/{street_name}\"\n",
    "\n",
    "params = {\n",
    "    \"outputFormat\": \"json\",\n",
    "    \"apiKey\": \"92e3ac4d-dfda-4fca-9ecb-1ca417538abd\"\n",
    "}\n",
    "print(get_data(url, params))"
   ]
  }
 ],
 "metadata": {
  "kernelspec": {
   "display_name": "data_warehouse_johnsandsjo_DE24 (3.12.5)",
   "language": "python",
   "name": "python3"
  },
  "language_info": {
   "codemirror_mode": {
    "name": "ipython",
    "version": 3
   },
   "file_extension": ".py",
   "mimetype": "text/x-python",
   "name": "python",
   "nbconvert_exporter": "python",
   "pygments_lexer": "ipython3",
   "version": "3.12.5"
  }
 },
 "nbformat": 4,
 "nbformat_minor": 5
}
