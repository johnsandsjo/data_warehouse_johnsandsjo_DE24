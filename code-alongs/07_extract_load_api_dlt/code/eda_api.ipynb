{
 "cells": [
  {
   "cell_type": "markdown",
   "id": "4c5a9dc3",
   "metadata": {},
   "source": [
    "## EDA on JobTech API"
   ]
  },
  {
   "cell_type": "code",
   "execution_count": 4,
   "id": "16bdf434",
   "metadata": {},
   "outputs": [
    {
     "name": "stdout",
     "output_type": "stream",
     "text": [
      "Lärare i matematik alternativt matematik/NO, till Kunskapsskolan Varberg, Kunskapsskolan i Sverige AB\n",
      "Gymnasielärare - Yrkes, Varbergs kommun\n",
      "Lärare grundskolans tidigare år, Väröbackaskolan, Varbergs kommun\n",
      "Lärare grundskolans senare år, Hagaskolan, Varbergs kommun\n",
      "Lärare grundskolans senare år, Almers Skola, Varbergs kommun\n",
      "Lärare fritidshem, Bläshammar skola, Varbergs kommun\n",
      "Yrkeslärare Träarbetare Movant Varberg, Movant AB\n",
      "Lärare i idrott och/eller matematik alternativt NO åk 4-6 Kunskapsskolan Va, Kunskapsskolan i Sverige AB\n"
     ]
    }
   ],
   "source": [
    "import requests\n",
    "import json\n",
    "\n",
    "url = 'https://jobsearch.api.jobtechdev.se'\n",
    "url_for_search = f\"{url}/search\"\n",
    "\n",
    "def _get_ads(params):\n",
    "    headers = {'accept': 'application/json'}\n",
    "    response = requests.get(url_for_search, headers=headers, params=params)\n",
    "    response.raise_for_status()  # check for http errors\n",
    "    return json.loads(response.content.decode('utf8'))\n",
    "\n",
    "\n",
    "def example_search_return_number_of_hits(query):\n",
    "    # limit: 0 means no ads, just a value of how many ads were found.\n",
    "    search_params = {'q': query, 'limit': 0}\n",
    "    json_response = _get_ads(search_params)\n",
    "    number_of_hits = json_response['total']['value']\n",
    "    print(f\"\\nNumber of hits = {number_of_hits}\")\n",
    "\n",
    "\n",
    "def example_search_loop_through_hits(query):\n",
    "    # limit = 100 is the max number of hits that can be returned.\n",
    "    # If there are more (which you find with ['total']['value'] in the json response)\n",
    "    # you have to use offset and multiple requests to get all ads.\n",
    "    search_params = {'q': query, 'limit': 100}\n",
    "    json_response = _get_ads(search_params)\n",
    "    hits = json_response['hits']\n",
    "    for hit in hits:\n",
    "        print(f\"{hit['headline']}, {hit['employer']['name']}\")\n",
    "\n",
    "\n",
    "query = 'lärare varberg'\n",
    "example_search_loop_through_hits(query)"
   ]
  },
  {
   "cell_type": "code",
   "execution_count": 5,
   "id": "5385fca5",
   "metadata": {},
   "outputs": [
    {
     "name": "stdout",
     "output_type": "stream",
     "text": [
      "\n",
      "Number of hits = 8\n"
     ]
    }
   ],
   "source": [
    "example_search_return_number_of_hits(query)"
   ]
  },
  {
   "cell_type": "code",
   "execution_count": 15,
   "id": "fe85f782",
   "metadata": {},
   "outputs": [],
   "source": [
    "search_params = {'q': query, 'limit': 100}\n",
    "json_response = _get_ads(search_params)\n",
    "#json_response[\"hits\"][7][\"description\"]\n",
    "#    json_response = _get_ads(search_params)"
   ]
  },
  {
   "cell_type": "code",
   "execution_count": 16,
   "id": "26690f96",
   "metadata": {},
   "outputs": [
    {
     "data": {
      "text/plain": [
       "dict_keys(['total', 'positions', 'query_time_in_millis', 'result_time_in_millis', 'stats', 'freetext_concepts', 'hits'])"
      ]
     },
     "execution_count": 16,
     "metadata": {},
     "output_type": "execute_result"
    }
   ],
   "source": [
    "json_response.keys()"
   ]
  },
  {
   "cell_type": "code",
   "execution_count": 17,
   "id": "4e3622ee",
   "metadata": {},
   "outputs": [
    {
     "data": {
      "text/plain": [
       "8"
      ]
     },
     "execution_count": 17,
     "metadata": {},
     "output_type": "execute_result"
    }
   ],
   "source": [
    "len(json_response[\"hits\"])"
   ]
  },
  {
   "cell_type": "code",
   "execution_count": 23,
   "id": "90f4d830",
   "metadata": {},
   "outputs": [],
   "source": [
    "json_response = _get_ads({\"q\": \"data engineer\", \"limit\":100})\n",
    "#json_response"
   ]
  },
  {
   "cell_type": "code",
   "execution_count": null,
   "id": "1db63469",
   "metadata": {},
   "outputs": [
    {
     "data": {
      "text/plain": [
       "('Senior Software Engineer - Data & Video Analytics, Lund',\n",
       " 'Amazon Data Services Sweden AB')"
      ]
     },
     "execution_count": 27,
     "metadata": {},
     "output_type": "execute_result"
    }
   ],
   "source": [
    "#json_response[\"hits\"]\n",
    "json_response[\"hits\"][-1][\"headline\"], json_response[\"hits\"][-1][\"employer\"][\"name\"]"
   ]
  },
  {
   "cell_type": "code",
   "execution_count": 38,
   "id": "4de1541f",
   "metadata": {},
   "outputs": [
    {
     "name": "stdout",
     "output_type": "stream",
     "text": [
      "Data Engineer - Nexer Telescope AB\n",
      "Data Engineer - Tele2 Sverige AB\n",
      "Data Engineer - Rasulson Consulting AB\n",
      "Data Engineer - Knowit AB (Publ)\n",
      "Data Engineer - SK Good Tech AB\n",
      "Data Engineer - Aktiebolaget Trav och Galopp\n",
      "Data Engineer - Cognizant Technology Solutions Sweden AB\n",
      "Data Engineer - AB Electrolux\n",
      "Data Engineer - Norion Bank AB\n",
      "Data Engineer - Norla AB\n",
      "Data Engineer - Svenska Kraftnät\n",
      "Data Engineer - SkillHuset Sweden AB\n",
      "Data Engineer - Voyado AB\n",
      "Data Engineer - Redeploy AB\n",
      "Data Engineer - itm8 Sverige AB\n",
      "Data Engineer - ACCIGO AKTIEBOLAG\n",
      "Data Engineer - Knowit AB (Publ)\n",
      "Data Engineer - Telavox AB\n",
      "Data Engineer - Sopra Steria Sweden AB\n",
      "Data Engineer - Coody AB\n",
      "Data Engineer - Danda AB\n",
      "Data Engineer - Techster Solutions AB\n",
      "Data Engineer - Techster Solutions AB\n",
      "R&D Data Engineer - Pelago Bioscience AB\n",
      "Junior Data Engineer - Cognizant Technology Solutions Sweden AB\n",
      "Senior Data Engineer - Cognizant Technology Solutions Sweden AB\n",
      "Data Engineer Insight - Nexer AB\n",
      "Junior Data Engineer - Cognizant Technology Solutions Sweden AB\n",
      "Junior Data Engineer - Adage AB\n",
      "Senior Data Engineer - Doktorse Nordic AB\n",
      "Senior Data Engineer - Rasulson Consulting AB\n",
      "Senior Data Engineer - Castra Group AB\n",
      "Senior Data Engineer - SwedQ AB\n",
      "Lead Data Engineer - Devoteam G Cloud AB\n",
      "Software Engineer / Data Engineer - Försvarets Radioanstalt\n",
      "Data Engineer till Data and Analytics - Luossavaara-Kiirunavaara AB\n",
      "Data Engineer  Analytics & Data Products - Kambi Sweden AB\n",
      "Fullstack Backend Data Engineer - Quattro Bemanning & Rekrytering AB\n",
      "Fullstack Backend Data Engineer - Quest Consulting Sverige AB\n",
      "Data Engineer - Remote! - Academic Work Sweden AB\n",
      "Data Engineer till Catigo - A Hub AB\n",
      "Data Engineer till Insera - A Hub AB\n",
      "Data Engineer till Insera - A Hub AB\n",
      "Data Engineer to Sweetspot - Ants Akademiskt Nätverk av Tekniska Studenter AB\n",
      "Data Engineer  Cloud Solutions and Data Platforms - Happy Group AB\n",
      "Data Engineer - Cloud Solutions and Data Platforms - NDP IT AB\n",
      "Data Engineer & Plattforms Specialist - Techster Solutions AB\n",
      "Data Engineer till Softhouse Mälardalen - Softhouse Nordic AB\n",
      "Senior Data Engineer – 12834 - Veritaz AB\n",
      "Data Engineer Content - Schibsted - Schibsted Media Products & Technology AB\n",
      "Data Engineer – Heltid, Stockholm - Quattro Bemanning & Rekrytering AB\n",
      "Senior Data Engineer (Consulting Assignment) - linkstate AB\n",
      "Senior Data Engineer – 12778 - Veritaz AB\n",
      "Data Engineer working in Delivery - Data & AI - Columbus Sweden AB\n",
      "Senior Data Engineer med Snowflake erfarenhet - Phantoms Tech AB\n",
      "Senior Data Engineer med Snowflake erfarenhet - Phantoms Tech AB\n",
      "Data Engineer till globalt bolag i Uppsala - SJR in Sweden AB\n",
      "Senior Backend & Data Engineer – 12803 - Veritaz AB\n",
      "Data Engineer till globalt bolag i Uppsala - SJR in Sweden AB\n",
      "Data Engineer / Scientist till Random Forest South - EdZa AB\n",
      "Data Engineer / Machine Learning / AI / Cloud - Combine Control Systems AB\n",
      "Data Engineer / Full-stack BI Consultant till Random Forest West AB - EdZa AB\n",
      "Data Engineer – Join the backbone of Sweden’s financial market @ Euroclear - Ants Akademiskt Nätverk av Tekniska Studenter AB\n",
      "Data Engineer till Chas – Forma din egen karriär i ett familjärt techbolag - Eeze Consulting AB\n",
      "Jobba extra på Ada Digital som Talent Agent - Tng Group AB\n",
      "Bli Spendrups nästa Data Scientist - Academic Work Sweden AB\n",
      "Senior Data Engineering- Rebtech - Aliby Consulting AB\n",
      "3 seniora Data Engineers till fintech uppdrag i centrala Stockholm🚀 - Phantoms Tech AB\n",
      "Data Engineer/Data Analytics consultant - Implema AB\n",
      "Data Infrastructure Engineer - TechStack Global AB\n",
      "Data Platform Engineer - Asciendo Data Science Consulting AB\n",
      "Frontend Engineer - Data Collections Team - Vend Marketplaces AB\n",
      "Data Centre Engineering Operations Chief Engineer - Amazon Data Services Sweden AB\n",
      "Compliance Engineer with Data Analytics Skills - Integro Consulting AB\n",
      "Data Centre Engineering Operations Chief Engineer, ARN- DCEO - Amazon Data Services Sweden AB\n",
      "Data & Evaluation Engineer - Video Analytics, Lund - Axis Communications AB\n",
      "Senior Software Engineer - Data & Video Analytics, Lund - Axis Communications AB\n"
     ]
    }
   ],
   "source": [
    "for i in range(len(json_response[\"hits\"])):\n",
    "    print(f\"{json_response[\"hits\"][i][\"headline\"]} - {json_response[\"hits\"][i][\"employer\"][\"name\"]}\")"
   ]
  }
 ],
 "metadata": {
  "kernelspec": {
   "display_name": "data_warehouse_johnsandsjo_DE24 (3.12.5)",
   "language": "python",
   "name": "python3"
  },
  "language_info": {
   "codemirror_mode": {
    "name": "ipython",
    "version": 3
   },
   "file_extension": ".py",
   "mimetype": "text/x-python",
   "name": "python",
   "nbconvert_exporter": "python",
   "pygments_lexer": "ipython3",
   "version": "3.12.5"
  }
 },
 "nbformat": 4,
 "nbformat_minor": 5
}
